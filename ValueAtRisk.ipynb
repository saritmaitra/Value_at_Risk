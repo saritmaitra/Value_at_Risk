{
 "cells": [
  {
   "cell_type": "code",
   "execution_count": 39,
   "metadata": {},
   "outputs": [
    {
     "name": "stdout",
     "output_type": "stream",
     "text": [
      "Requirement already satisfied: pandas_datareader in c:\\users\\sarit\\anaconda3\\lib\\site-packages (0.9.0)\n",
      "Requirement already satisfied: lxml in c:\\users\\sarit\\anaconda3\\lib\\site-packages (from pandas_datareader) (4.6.1)\n",
      "Requirement already satisfied: pandas>=0.23 in c:\\users\\sarit\\appdata\\roaming\\python\\python38\\site-packages (from pandas_datareader) (1.0.3)\n",
      "Requirement already satisfied: requests>=2.19.0 in c:\\users\\sarit\\anaconda3\\lib\\site-packages (from pandas_datareader) (2.24.0)\n",
      "Requirement already satisfied: pytz>=2017.2 in c:\\users\\sarit\\anaconda3\\lib\\site-packages (from pandas>=0.23->pandas_datareader) (2020.1)\n",
      "Requirement already satisfied: python-dateutil>=2.6.1 in c:\\users\\sarit\\anaconda3\\lib\\site-packages (from pandas>=0.23->pandas_datareader) (2.8.1)\n",
      "Requirement already satisfied: numpy>=1.13.3 in c:\\users\\sarit\\anaconda3\\lib\\site-packages (from pandas>=0.23->pandas_datareader) (1.19.2)\n",
      "Requirement already satisfied: six>=1.5 in c:\\users\\sarit\\anaconda3\\lib\\site-packages (from python-dateutil>=2.6.1->pandas>=0.23->pandas_datareader) (1.15.0)\n",
      "Requirement already satisfied: urllib3!=1.25.0,!=1.25.1,<1.26,>=1.21.1 in c:\\users\\sarit\\anaconda3\\lib\\site-packages (from requests>=2.19.0->pandas_datareader) (1.25.11)\n",
      "Requirement already satisfied: chardet<4,>=3.0.2 in c:\\users\\sarit\\anaconda3\\lib\\site-packages (from requests>=2.19.0->pandas_datareader) (3.0.4)\n",
      "Requirement already satisfied: idna<3,>=2.5 in c:\\users\\sarit\\anaconda3\\lib\\site-packages (from requests>=2.19.0->pandas_datareader) (2.10)\n",
      "Requirement already satisfied: certifi>=2017.4.17 in c:\\users\\sarit\\anaconda3\\lib\\site-packages (from requests>=2.19.0->pandas_datareader) (2020.6.20)\n",
      "Note: you may need to restart the kernel to use updated packages.\n"
     ]
    }
   ],
   "source": [
    "pip install pandas_datareader"
   ]
  },
  {
   "cell_type": "code",
   "execution_count": 40,
   "metadata": {},
   "outputs": [
    {
     "name": "stdout",
     "output_type": "stream",
     "text": [
      "Requirement already satisfied: pip in c:\\users\\sarit\\anaconda3\\lib\\site-packages (21.1.2)\n",
      "Note: you may need to restart the kernel to use updated packages.\n"
     ]
    }
   ],
   "source": [
    "pip install --upgrade pip"
   ]
  },
  {
   "cell_type": "code",
   "execution_count": 41,
   "metadata": {},
   "outputs": [],
   "source": [
    "import pandas as pd, numpy as np, datetime as dt, scipy\n",
    "from pandas_datareader import data as pdr \n",
    "from scipy import stats\n",
    "from scipy.stats import norm"
   ]
  },
  {
   "cell_type": "markdown",
   "metadata": {},
   "source": [
    "## VaR for risk management\n",
    "As soon as we open a position in the market, we are exposed to various types of\n",
    "risks, such as volatility risk and credit risk. To preserve our trading capital as much\n",
    "as possible, it is important to incorporate some form of risk management measures\n",
    "to our trading system. Perhaps the most common measure of risk used in the financial industry is the VaR\n",
    "technique. It is designed to simply answer: what is the worst expected amount of\n",
    "loss, given a specific probability level, say 95 percent, over a certain period of time?\n",
    "The beauty of VaR is that it can be applied to multiple levels, from position-specific\n",
    "micro level to portfolio-based macro level."
   ]
  },
  {
   "cell_type": "code",
   "execution_count": 42,
   "metadata": {},
   "outputs": [
    {
     "data": {
      "text/plain": [
       "1.6448536269514722"
      ]
     },
     "execution_count": 42,
     "metadata": {},
     "output_type": "execute_result"
    }
   ],
   "source": [
    "scipy.stats.norm.ppf(0.95)"
   ]
  },
  {
   "cell_type": "code",
   "execution_count": 43,
   "metadata": {},
   "outputs": [
    {
     "data": {
      "text/plain": [
       "8224.268134757362"
      ]
     },
     "execution_count": 43,
     "metadata": {},
     "output_type": "execute_result"
    }
   ],
   "source": [
    "# function for VaR\n",
    "def VaR(initial_investment, σ, CI):\n",
    "    return (initial_investment * σ * scipy.stats.norm.ppf(CI))   \n",
    "\n",
    "initial_investment = float(100000) # Set an initial investment level\n",
    "CI = 0.95 # confidence interval @ 95%\n",
    "σ = 0.05  # assuming daily violatility 5%\n",
    "\n",
    "VaR(initial_investment, σ, CI)"
   ]
  },
  {
   "cell_type": "code",
   "execution_count": 44,
   "metadata": {},
   "outputs": [],
   "source": [
    "# import math\n",
    "\n",
    "# initial_investment = float(100000) # Set an initial investment level\n",
    "# confidence_interval = 0.95\n",
    "# assuming stdDev = 20%\n",
    "# σ = (0.2 / math.sqrt(252)) *100\n",
    "# print('Daily volatility:', σ) # daily vilatility\n",
    "\n",
    "# 1.25%"
   ]
  },
  {
   "cell_type": "code",
   "execution_count": 45,
   "metadata": {},
   "outputs": [],
   "source": [
    "# assuming expected return = 9%\n",
    "# expected_daily_ret = (0.09 / 252) * 100 \n",
    "# print(expected_daily_ret)\n",
    "\n",
    "# 0.036%"
   ]
  },
  {
   "cell_type": "markdown",
   "metadata": {},
   "source": [
    "Interpretation: with a probability of 95% our expected loss for 1 day position will not exceed $ 8224.26\n",
    "\n",
    "Let's approach VaR for a portfolio of multiple stocks.\n",
    "\n",
    "The most important quality of portfolio variance is that its value is a weighted combination of the individual variances of each of the assets adjusted by their covariances. This means that the overall portfolio variance is lower than a simple weighted average of the individual variances of the stocks in the portfolio.\n",
    "\n",
    "The formula for portfolio variance in a two-asset portfolio is as follows:\n",
    "\n",
    "Portfolio variance = (w1^2)(σ1^2) + (w2^2)(σ2^2) + 2 * w1 * w2 * Cov1,2\n",
    "\n",
    "Where:\n",
    "\n",
    "- w1 = the portfolio weight of the first asset\n",
    "- w2 = the portfolio weight of the second asset\n",
    "- σ1= the standard deviation of the first asset\n",
    "- σ2 = the standard deviation of the second asset\n",
    "- Cov1,2 = the covariance of the two assets, Cov1,2 = the covariance of the two assets, which can thus be expressed as p(1,2)σ1σ2, where p(1,2) is the correlation coefficient between the two assets"
   ]
  },
  {
   "cell_type": "code",
   "execution_count": 46,
   "metadata": {},
   "outputs": [
    {
     "name": "stdout",
     "output_type": "stream",
     "text": [
      "0.05049752469181039\n",
      "\n",
      "Value at risk: 8306.103664139584\n"
     ]
    }
   ],
   "source": [
    "w1 = 0.5\n",
    "w2 = 0.5\n",
    "σ1 = 0.07\n",
    "σ2 = 0.05\n",
    "corr = 0.4\n",
    "\n",
    "variance = (w1 **2) * (σ1 **2) + (w2**2)*(σ2**2) + 2 * w1 * w2 * σ1*σ2*corr\n",
    "σ = variance **(1/2) # volatility\n",
    "print(σ); print()\n",
    "\n",
    "# Now that we have eveything to calculate VaR\n",
    "print('Value at risk:', VaR(initial_investment, σ, CI))"
   ]
  },
  {
   "cell_type": "markdown",
   "metadata": {},
   "source": [
    "### Parametric VaR"
   ]
  },
  {
   "cell_type": "code",
   "execution_count": 47,
   "metadata": {},
   "outputs": [
    {
     "name": "stdout",
     "output_type": "stream",
     "text": [
      "[5756.98769433 4112.13406738]\n"
     ]
    }
   ],
   "source": [
    "VaR1 = VaR(initial_investment*w1, σ1, CI)\n",
    "VaR2 = VaR(initial_investment*w2, σ2, CI)\n",
    "vector = np.array([VaR1, VaR2])\n",
    "print(vector)"
   ]
  },
  {
   "cell_type": "code",
   "execution_count": 48,
   "metadata": {},
   "outputs": [
    {
     "name": "stdout",
     "output_type": "stream",
     "text": [
      "[[1.  0.4]\n",
      " [0.4 1. ]]\n"
     ]
    }
   ],
   "source": [
    "corr_matrix = np.array([[1, corr], [corr,1]])\n",
    "print(corr_matrix)"
   ]
  },
  {
   "cell_type": "code",
   "execution_count": 49,
   "metadata": {},
   "outputs": [
    {
     "data": {
      "text/plain": [
       "8306.103664139586"
      ]
     },
     "execution_count": 49,
     "metadata": {},
     "output_type": "execute_result"
    }
   ],
   "source": [
    "(np.dot(np.dot(vector, corr_matrix), vector))**(1/2)"
   ]
  },
  {
   "cell_type": "markdown",
   "metadata": {},
   "source": [
    "## Import Data\n",
    "\n",
    "We will download Adj close price"
   ]
  },
  {
   "cell_type": "code",
   "execution_count": 50,
   "metadata": {},
   "outputs": [
    {
     "name": "stdout",
     "output_type": "stream",
     "text": [
      "Returns dataframe:\n",
      "Symbols         ^RUT     ^GSPC      ^DJI     ^IXIC\n",
      "Date                                              \n",
      "2021-05-17  0.001119 -0.002530 -0.001580 -0.003792\n",
      "2021-05-18 -0.007292 -0.008517 -0.007782 -0.005636\n",
      "2021-05-19 -0.007798 -0.002943 -0.004833 -0.000293\n",
      "2021-05-20  0.006437  0.010555  0.005550  0.017745\n",
      "2021-05-21  0.003402 -0.000784  0.003629 -0.004784\n",
      "\n",
      "Covariance matrix:\n",
      "Symbols      ^RUT     ^GSPC      ^DJI     ^IXIC\n",
      "Symbols                                        \n",
      "^RUT     0.000260  0.000139  0.000144  0.000149\n",
      "^GSPC    0.000139  0.000119  0.000111  0.000137\n",
      "^DJI     0.000144  0.000111  0.000123  0.000105\n",
      "^IXIC    0.000149  0.000137  0.000105  0.000200\n"
     ]
    }
   ],
   "source": [
    "stocks = ['^RUT', '^GSPC', '^DJI', '^IXIC']\n",
    "end = dt.datetime.now()\n",
    "start = dt.datetime(end.year - 1, end.month, end.day)\n",
    "\n",
    "# Download closing prices\n",
    "data = pdr.get_data_yahoo(stocks, start=start, end=end)['Adj Close']\n",
    "\n",
    "#From the closing prices, calculate periodic returns\n",
    "returns = data.pct_change()\n",
    "print('Returns dataframe:')\n",
    "print(returns.tail()); print()\n",
    "\n",
    "# Generate Var-Cov matrix\n",
    "cov_matrix = returns.cov()\n",
    "print('Covariance matrix:')\n",
    "print(cov_matrix)"
   ]
  },
  {
   "cell_type": "code",
   "execution_count": 51,
   "metadata": {},
   "outputs": [
    {
     "name": "stdout",
     "output_type": "stream",
     "text": [
      "Covariance matrix:\n",
      "Symbols      ^RUT     ^GSPC      ^DJI     ^IXIC\n",
      "Symbols                                        \n",
      "^RUT     0.000260  0.000139  0.000144  0.000149\n",
      "^GSPC    0.000139  0.000119  0.000111  0.000137\n",
      "^DJI     0.000144  0.000111  0.000123  0.000105\n",
      "^IXIC    0.000149  0.000137  0.000105  0.000200\n",
      "\n",
      "Expected daily return of our portfolio: 0.0014391387507770178\n",
      "\n",
      "Expected daily volatility of our portfoli0: 0.011291176191446348\n",
      "\n",
      "Average portfolio investement in absolute value: 100143.9138750777\n",
      "\n",
      "Average volatility of our investment in absolute value: 1129.1176191446348\n",
      "\n"
     ]
    }
   ],
   "source": [
    "# set random weights for portfolio\n",
    "weights = np.random.random(len(returns.columns))\n",
    "\n",
    "# normalizing weights\n",
    "weights /= np.sum(weights)\n",
    "\n",
    "# Calculate mean returns for each stock\n",
    "avg_rets = returns.mean()\n",
    "\n",
    "# portfolio_returns = np.sum(avg_rets * weights) * Time\n",
    "# print('Portfolio returns:', portfolio_returns); print()\n",
    "\n",
    "# Generate Var-Cov matrix\n",
    "cov_matrix = returns.cov()\n",
    "print('Covariance matrix:')\n",
    "print(cov_matrix); print()\n",
    " \n",
    "# Calculate mean returns for portfolio overall, \n",
    "portfolio_mean = avg_rets @ weights\n",
    "print('Expected daily return of our portfolio:', portfolio_mean); print()\n",
    " \n",
    "# Calculate portfolio standard deviation\n",
    "portfolio_std = np.sqrt(weights.T @ cov_matrix @ weights)\n",
    "print('Expected daily volatility of our portfoli0:', portfolio_std); print()\n",
    " \n",
    "# Calculate mean of investment\n",
    "mean_investment = (1+portfolio_mean) * initial_investment\n",
    "print('Average portfolio investement in absolute value:', mean_investment); print()\n",
    "             \n",
    "# Calculate standard deviation of investmnet\n",
    "std_investment = initial_investment * portfolio_std\n",
    "print('Average volatility of our investment in absolute value:', std_investment); print()"
   ]
  },
  {
   "cell_type": "markdown",
   "metadata": {},
   "source": [
    "- Expected daily return of our portfolio:  0.14% \n",
    "- Expected std deviation = 1.13 % of our portfolio\n",
    "\n",
    "## Normal distribution curve"
   ]
  },
  {
   "cell_type": "code",
   "execution_count": 52,
   "metadata": {},
   "outputs": [
    {
     "data": {
      "application/javascript": [
       "\n",
       "        if (window._pyforest_update_imports_cell) { window._pyforest_update_imports_cell('import matplotlib.pyplot as plt'); }\n",
       "    "
      ],
      "text/plain": [
       "<IPython.core.display.Javascript object>"
      ]
     },
     "metadata": {},
     "output_type": "display_data"
    },
    {
     "data": {
      "application/javascript": [
       "\n",
       "        if (window._pyforest_update_imports_cell) { window._pyforest_update_imports_cell('import matplotlib.pyplot as plt'); }\n",
       "    "
      ],
      "text/plain": [
       "<IPython.core.display.Javascript object>"
      ]
     },
     "metadata": {},
     "output_type": "display_data"
    },
    {
     "data": {
      "application/javascript": [
       "\n",
       "        if (window._pyforest_update_imports_cell) { window._pyforest_update_imports_cell('import matplotlib.pyplot as plt'); }\n",
       "    "
      ],
      "text/plain": [
       "<IPython.core.display.Javascript object>"
      ]
     },
     "metadata": {},
     "output_type": "display_data"
    },
    {
     "data": {
      "image/png": "[encoded data removed]",
      "text/plain": [
       "<Figure size 432x288 with 1 Axes>"
      ]
     },
     "metadata": {
      "needs_background": "light"
     },
     "output_type": "display_data"
    }
   ],
   "source": [
    "x = np.arange(-0.05, 0.055, 0.001)\n",
    "norm_dist = norm.pdf(x, portfolio_mean, portfolio_std)\n",
    "\n",
    "plt.plot(x, norm_dist, color='r')\n",
    "plt.grid(True)\n",
    "plt.show()"
   ]
  },
  {
   "cell_type": "code",
   "execution_count": 53,
   "metadata": {},
   "outputs": [
    {
     "name": "stdout",
     "output_type": "stream",
     "text": [
      "-0.017133193360271626\n"
     ]
    }
   ],
   "source": [
    "# confidence interval (95%)\n",
    "CI = 0.05\n",
    "\n",
    "VaR = norm.ppf(CI, portfolio_mean, portfolio_std)\n",
    "print(VaR)"
   ]
  },
  {
   "cell_type": "markdown",
   "metadata": {},
   "source": [
    "So, we have 05% confidence that, out portfolio will not loose > 1.7% in a day."
   ]
  },
  {
   "cell_type": "code",
   "execution_count": 54,
   "metadata": {},
   "outputs": [
    {
     "data": {
      "text/plain": [
       "-0.06635657255168351"
      ]
     },
     "execution_count": 54,
     "metadata": {},
     "output_type": "execute_result"
    }
   ],
   "source": [
    "num_days = int(15)\n",
    "VaR * np.sqrt(num_days)"
   ]
  },
  {
   "cell_type": "markdown",
   "metadata": {},
   "source": [
    "Here we see that. in 15 days our portfolio will no loost > 6.64% of it's value.\n",
    "\n",
    "Let us calculate the inverse of the normal cumulative distribution (PPF) with a specified confidence interval, standard deviation, and mean."
   ]
  },
  {
   "cell_type": "code",
   "execution_count": 55,
   "metadata": {},
   "outputs": [
    {
     "name": "stdout",
     "output_type": "stream",
     "text": [
      "Cut off value: 98286.68066397285\n"
     ]
    }
   ],
   "source": [
    "cut_off = norm.ppf(CI, mean_investment, std_investment)\n",
    "print('Cut off value:', cut_off)"
   ]
  },
  {
   "cell_type": "code",
   "execution_count": 56,
   "metadata": {},
   "outputs": [
    {
     "name": "stdout",
     "output_type": "stream",
     "text": [
      "Historical VaR: 1713.3193360271543\n"
     ]
    }
   ],
   "source": [
    "historicalVaR = initial_investment - cut_off\n",
    "print('Historical VaR:', historicalVaR)"
   ]
  },
  {
   "cell_type": "markdown",
   "metadata": {},
   "source": [
    "Here we are saying with 95% confidence that our portfolio of 100,000 USD will not exceed losses greater than $ 1765.13 over a one day period."
   ]
  },
  {
   "cell_type": "code",
   "execution_count": 57,
   "metadata": {},
   "outputs": [
    {
     "name": "stdout",
     "output_type": "stream",
     "text": [
      "1 day VaR @ 95% confidence: 1713.32\n",
      "2 day VaR @ 95% confidence: 2423.0\n",
      "3 day VaR @ 95% confidence: 2967.56\n",
      "4 day VaR @ 95% confidence: 3426.64\n",
      "5 day VaR @ 95% confidence: 3831.1\n",
      "6 day VaR @ 95% confidence: 4196.76\n",
      "7 day VaR @ 95% confidence: 4533.02\n",
      "8 day VaR @ 95% confidence: 4846.0\n",
      "9 day VaR @ 95% confidence: 5139.96\n",
      "10 day VaR @ 95% confidence: 5417.99\n",
      "11 day VaR @ 95% confidence: 5682.44\n",
      "12 day VaR @ 95% confidence: 5935.11\n",
      "13 day VaR @ 95% confidence: 6177.46\n",
      "14 day VaR @ 95% confidence: 6410.65\n",
      "15 day VaR @ 95% confidence: 6635.66\n"
     ]
    },
    {
     "data": {
      "application/javascript": [
       "\n",
       "        if (window._pyforest_update_imports_cell) { window._pyforest_update_imports_cell('import matplotlib.pyplot as plt'); }\n",
       "    "
      ],
      "text/plain": [
       "<IPython.core.display.Javascript object>"
      ]
     },
     "metadata": {},
     "output_type": "display_data"
    },
    {
     "data": {
      "application/javascript": [
       "\n",
       "        if (window._pyforest_update_imports_cell) { window._pyforest_update_imports_cell('import matplotlib.pyplot as plt'); }\n",
       "    "
      ],
      "text/plain": [
       "<IPython.core.display.Javascript object>"
      ]
     },
     "metadata": {},
     "output_type": "display_data"
    },
    {
     "data": {
      "application/javascript": [
       "\n",
       "        if (window._pyforest_update_imports_cell) { window._pyforest_update_imports_cell('import matplotlib.pyplot as plt'); }\n",
       "    "
      ],
      "text/plain": [
       "<IPython.core.display.Javascript object>"
      ]
     },
     "metadata": {},
     "output_type": "display_data"
    },
    {
     "data": {
      "application/javascript": [
       "\n",
       "        if (window._pyforest_update_imports_cell) { window._pyforest_update_imports_cell('import matplotlib.pyplot as plt'); }\n",
       "    "
      ],
      "text/plain": [
       "<IPython.core.display.Javascript object>"
      ]
     },
     "metadata": {},
     "output_type": "display_data"
    },
    {
     "data": {
      "application/javascript": [
       "\n",
       "        if (window._pyforest_update_imports_cell) { window._pyforest_update_imports_cell('import matplotlib.pyplot as plt'); }\n",
       "    "
      ],
      "text/plain": [
       "<IPython.core.display.Javascript object>"
      ]
     },
     "metadata": {},
     "output_type": "display_data"
    },
    {
     "data": {
      "application/javascript": [
       "\n",
       "        if (window._pyforest_update_imports_cell) { window._pyforest_update_imports_cell('import matplotlib.pyplot as plt'); }\n",
       "    "
      ],
      "text/plain": [
       "<IPython.core.display.Javascript object>"
      ]
     },
     "metadata": {},
     "output_type": "display_data"
    },
    {
     "data": {
      "image/png": "[encoded data removed]",
      "text/plain": [
       "<Figure size 432x288 with 1 Axes>"
      ]
     },
     "metadata": {
      "needs_background": "light"
     },
     "output_type": "display_data"
    }
   ],
   "source": [
    "# Calculate n Day VaR\n",
    "var_array = []\n",
    "num_days = int(15)\n",
    "for x in range(1, num_days+1):    \n",
    "    var_array.append(np.round(historicalVaR * np.sqrt(x),2))\n",
    "    print(str(x) + \" day VaR @ 95% confidence: \" + str(np.round(historicalVaR * np.sqrt(x),2)))\n",
    "\n",
    "# Build plot\n",
    "plt.xlabel(\"Day\")\n",
    "plt.ylabel(\"Max portfolio loss (USD)\")\n",
    "plt.title(\"Max portfolio loss (VaR) over 15-day period\")\n",
    "plt.plot(var_array, \"r\")\n",
    "plt.grid(True)\n",
    "plt.show()"
   ]
  },
  {
   "cell_type": "markdown",
   "metadata": {},
   "source": [
    "Conditional value at risk is derived from the value at risk for a portfolio or investment.\n",
    "The use of CVaR as opposed to just VaR tends to lead to a more conservative approach in terms of risk exposure."
   ]
  }
 ],
 "metadata": {
  "kernelspec": {
   "display_name": "Python 3.8.3 64-bit ('base': conda)",
   "language": "python",
   "name": "python38364bitbasecondaa484b042fbed4d21ad19847f11dc808b"
  },
  "language_info": {
   "codemirror_mode": {
    "name": "ipython",
    "version": 3
   },
   "file_extension": ".py",
   "mimetype": "text/x-python",
   "name": "python",
   "nbconvert_exporter": "python",
   "pygments_lexer": "ipython3",
   "version": "3.8.5"
  }
 },
 "nbformat": 4,
 "nbformat_minor": 4
}
